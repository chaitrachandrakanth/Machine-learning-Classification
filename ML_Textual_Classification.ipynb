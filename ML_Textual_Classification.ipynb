{
 "cells": [
  {
   "cell_type": "markdown",
   "metadata": {},
   "source": [
    "## Text Classification"
   ]
  },
  {
   "cell_type": "markdown",
   "metadata": {},
   "source": [
    "#### **Task 1 : Select two review categories of your choice. Scrape all reviews for each category and store them as two separate datasets. For each review, you should store the review text and a class label (i.e. whether the review is “positive” or “negative”). )**"
   ]
  },
  {
   "cell_type": "markdown",
   "metadata": {},
   "source": [
    "<font color=firebrick>Selected categories:</font>"
   ]
  },
  {
   "cell_type": "markdown",
   "metadata": {},
   "source": [
    "I have chosen 2 categories provided by the **http://mlg.ucd.ie/modules/yalp/** namely -\n",
    "1. Yalp — Fresh Reviews for Restaurants (http://mlg.ucd.ie/modules/yalp/restaurants_list.html)\n",
    "2. Yalp — Fresh Reviews for Bars (http://mlg.ucd.ie/modules/yalp/bars_list.html) \n",
    "\n",
    "\n",
    "We first use the *BeautifulSoup* to scrape data from these two categories.\n",
    "<br/>\n"
   ]
  },
  {
   "cell_type": "markdown",
   "metadata": {},
   "source": [
    "#### Import Packages"
   ]
  },
  {
   "cell_type": "code",
   "execution_count": 1,
   "metadata": {},
   "outputs": [],
   "source": [
    "from requests import get\n",
    "from sklearn.tree import DecisionTreeRegressor\n",
    "from sklearn.linear_model import LogisticRegression\n",
    "from sklearn.metrics import accuracy_score\n",
    "from sklearn.neighbors import KNeighborsClassifier\n",
    "from requests import Request, Session\n",
    "from requests.exceptions import RequestException\n",
    "from contextlib import closing\n",
    "from bs4 import BeautifulSoup\n",
    "from sklearn.pipeline import Pipeline\n",
    "import pandas as pd\n",
    "import csv\n",
    "import matplotlib.pyplot as plt\n",
    "import seaborn as sns\n",
    "import nltk\n",
    "from nltk.corpus import stopwords\n",
    "import string\n",
    "import numpy as np\n",
    "from sklearn.model_selection import train_test_split \n",
    "from sklearn.ensemble import RandomForestClassifier\n",
    "from sklearn.feature_extraction.text import TfidfVectorizer\n",
    "from sklearn.naive_bayes import MultinomialNB\n",
    "from sklearn import metrics\n",
    "from sklearn.tree import DecisionTreeClassifier\n",
    "from sklearn import tree\n",
    "from sklearn.model_selection import cross_val_score"
   ]
  },
  {
   "cell_type": "markdown",
   "metadata": {},
   "source": [
    "#### Fields"
   ]
  },
  {
   "cell_type": "markdown",
   "metadata": {},
   "source": [
    "File names"
   ]
  },
  {
   "cell_type": "code",
   "execution_count": 2,
   "metadata": {},
   "outputs": [],
   "source": [
    "#file storing all the details of bar ratings\n",
    "bar_csv_file = \"Bar.csv\"\n",
    "\n",
    "#file storing all the details of restaurant ratings\n",
    "restaurant_csv_file = \"Restaurant.csv\""
   ]
  },
  {
   "cell_type": "markdown",
   "metadata": {},
   "source": [
    "#### MList of three methods used to get the request, get response from the web and to log error if any"
   ]
  },
  {
   "cell_type": "code",
   "execution_count": 3,
   "metadata": {},
   "outputs": [],
   "source": [
    "def get_request(url):\n",
    "    \"\"\"\n",
    "    Getting the content of the url and using a GET request.\n",
    "    If text content available returns the contents, else returns None\n",
    "    \"\"\"\n",
    "    try:\n",
    "        with closing(get(url)) as response:\n",
    "            if get_response(response):\n",
    "                return response.content\n",
    "            else:\n",
    "                return None\n",
    "\n",
    "    except RequestException as exception:\n",
    "        log_error('Error '.format(url, str(exception)))\n",
    "        return None\n",
    "\n",
    "\n",
    "def get_response(response):\n",
    "    \"\"\"\n",
    "    Returns True if the response returned is HTML , else False\n",
    "    \"\"\"\n",
    "    content_type = response.headers['Content-Type'].lower()\n",
    "    return (response.status_code == 200 \n",
    "            and content_type is not None \n",
    "            and content_type.find('html') > -1)\n",
    "\n",
    "\n",
    "def log_error(exception):\n",
    "    \"\"\"\n",
    "    Print the error log when there is any error while get_request and get_response\n",
    "    \"\"\"\n",
    "    print(exception)"
   ]
  },
  {
   "cell_type": "markdown",
   "metadata": {},
   "source": [
    "### Method used to fetch the data from two of the webpages and then add itinto a dataframe"
   ]
  },
  {
   "cell_type": "code",
   "execution_count": 4,
   "metadata": {},
   "outputs": [],
   "source": [
    "def get_values(url):\n",
    "    \"\"\"\n",
    "    fetch the values from the web and then store the same in the csv file\n",
    "    for further processing \n",
    "    \"\"\"\n",
    "    rawhtml = get_request(url)\n",
    "    result_frame = []\n",
    "    if rawhtml is not None:\n",
    "        html = BeautifulSoup(rawhtml, 'html.parser')\n",
    "        containers = html.find_all('a')\n",
    "        for li in containers:\n",
    "            file_name = li.get(\"href\")\n",
    "            url = get_request(\"http://mlg.ucd.ie/modules/yalp/\"+file_name)\n",
    "            html = BeautifulSoup(url, 'html.parser')\n",
    "            div_containers = html.find_all('div',class_= 'review')\n",
    "            for div in div_containers:\n",
    "                stars = div.find('img').get('alt')\n",
    "                # If the stars are 1,2 or 3 we make it as Negative\n",
    "                if stars == '1-star' or stars == '2-star' or stars == '3-star':\n",
    "                    val = 'Negative' \n",
    "                # If the stars are 4 or 5 we make it as Positive\n",
    "                elif stars == '4-star' or stars == '5-star':\n",
    "                    val = 'Positive'\n",
    "                comment_name = div.find('p', class_='text').text\n",
    "                result_frame.append({'Stars' : val, 'Review_comment' : comment_name})\n",
    "        return result_frame\n",
    "\n",
    "    # Raise an exception if there is a failure to get the content\n",
    "    raise Exception('Error retrieving contents at {}'.format(url))"
   ]
  },
  {
   "cell_type": "markdown",
   "metadata": {},
   "source": [
    "### Method which will write the dataframe into a csv file"
   ]
  },
  {
   "cell_type": "code",
   "execution_count": 5,
   "metadata": {},
   "outputs": [],
   "source": [
    "def write_data_to_csv(bar_input, restaurant_input):\n",
    "    \n",
    "    # Writing the bar review details  to bar.csv file \n",
    "    with open(bar_csv_file, mode='a', encoding=\"utf8\") as file:\n",
    "        bar_input.to_csv(file, index=False);\n",
    "    \n",
    "     # Writing the restaurant review details to restaurant.csv file \n",
    "    with open(restaurant_csv_file, mode='a', encoding=\"utf8\") as file:\n",
    "        restaurant_input.to_csv(file, index=False);"
   ]
  },
  {
   "cell_type": "markdown",
   "metadata": {},
   "source": [
    "### Using the url from where the data needs to be scrapped from the web"
   ]
  },
  {
   "cell_type": "code",
   "execution_count": 6,
   "metadata": {},
   "outputs": [],
   "source": [
    "# Url from where the bar data needs to be scraped\n",
    "bar_url = 'http://mlg.ucd.ie/modules/yalp/bars_list.html'\n",
    "bar_response = get_values(bar_url)\n",
    "bar_dafaframe = pd.DataFrame(bar_response)\n",
    "\n",
    "# Url from where the restaurant data needs to be scraped\n",
    "restaurant_url = 'http://mlg.ucd.ie/modules/yalp/restaurants_list.html'\n",
    "restaurant_response = get_values(restaurant_url)\n",
    "restaurant_dataframe = pd.DataFrame(restaurant_response)\n",
    "\n",
    "# Calling the method where we write the data into the csv file\n",
    "write_data_to_csv(bar_dafaframe,restaurant_dataframe)"
   ]
  },
  {
   "cell_type": "code",
   "execution_count": 7,
   "metadata": {},
   "outputs": [
    {
     "data": {
      "text/html": [
       "<div>\n",
       "<style scoped>\n",
       "    .dataframe tbody tr th:only-of-type {\n",
       "        vertical-align: middle;\n",
       "    }\n",
       "\n",
       "    .dataframe tbody tr th {\n",
       "        vertical-align: top;\n",
       "    }\n",
       "\n",
       "    .dataframe thead th {\n",
       "        text-align: right;\n",
       "    }\n",
       "</style>\n",
       "<table border=\"1\" class=\"dataframe\">\n",
       "  <thead>\n",
       "    <tr style=\"text-align: right;\">\n",
       "      <th></th>\n",
       "      <th>Review_comment</th>\n",
       "      <th>Stars</th>\n",
       "    </tr>\n",
       "  </thead>\n",
       "  <tbody>\n",
       "    <tr>\n",
       "      <th>0</th>\n",
       "      <td>It would help if the front girl don't just sit...</td>\n",
       "      <td>Negative</td>\n",
       "    </tr>\n",
       "    <tr>\n",
       "      <th>1</th>\n",
       "      <td>One star because that's the least amount you c...</td>\n",
       "      <td>Negative</td>\n",
       "    </tr>\n",
       "    <tr>\n",
       "      <th>2</th>\n",
       "      <td>Bad time today. Dirty windows, table sticky, h...</td>\n",
       "      <td>Negative</td>\n",
       "    </tr>\n",
       "    <tr>\n",
       "      <th>3</th>\n",
       "      <td>My second visit in the last year. Both experie...</td>\n",
       "      <td>Negative</td>\n",
       "    </tr>\n",
       "    <tr>\n",
       "      <th>4</th>\n",
       "      <td>Absolutely awful! Took forever to get food, fo...</td>\n",
       "      <td>Negative</td>\n",
       "    </tr>\n",
       "  </tbody>\n",
       "</table>\n",
       "</div>"
      ],
      "text/plain": [
       "                                      Review_comment     Stars\n",
       "0  It would help if the front girl don't just sit...  Negative\n",
       "1  One star because that's the least amount you c...  Negative\n",
       "2  Bad time today. Dirty windows, table sticky, h...  Negative\n",
       "3  My second visit in the last year. Both experie...  Negative\n",
       "4  Absolutely awful! Took forever to get food, fo...  Negative"
      ]
     },
     "execution_count": 7,
     "metadata": {},
     "output_type": "execute_result"
    }
   ],
   "source": [
    "# Read Bar.csv file \n",
    "bar_txt = pd.read_csv(bar_csv_file)\n",
    "bar_txt.head()"
   ]
  },
  {
   "cell_type": "code",
   "execution_count": 8,
   "metadata": {},
   "outputs": [
    {
     "name": "stdout",
     "output_type": "stream",
     "text": [
      "Review_comment    0\n",
      "Stars             0\n",
      "dtype: int64\n"
     ]
    }
   ],
   "source": [
    "# Checking if there are null values in bar_txt\n",
    "print(bar_txt.isnull().sum())"
   ]
  },
  {
   "cell_type": "code",
   "execution_count": 9,
   "metadata": {},
   "outputs": [
    {
     "data": {
      "text/html": [
       "<div>\n",
       "<style scoped>\n",
       "    .dataframe tbody tr th:only-of-type {\n",
       "        vertical-align: middle;\n",
       "    }\n",
       "\n",
       "    .dataframe tbody tr th {\n",
       "        vertical-align: top;\n",
       "    }\n",
       "\n",
       "    .dataframe thead th {\n",
       "        text-align: right;\n",
       "    }\n",
       "</style>\n",
       "<table border=\"1\" class=\"dataframe\">\n",
       "  <thead>\n",
       "    <tr style=\"text-align: right;\">\n",
       "      <th></th>\n",
       "      <th>Review_comment</th>\n",
       "      <th>Stars</th>\n",
       "    </tr>\n",
       "  </thead>\n",
       "  <tbody>\n",
       "    <tr>\n",
       "      <th>0</th>\n",
       "      <td>Too expensive for what they had... i had an eg...</td>\n",
       "      <td>Negative</td>\n",
       "    </tr>\n",
       "    <tr>\n",
       "      <th>1</th>\n",
       "      <td>Very rustic place. Mismatched furniture, off K...</td>\n",
       "      <td>Positive</td>\n",
       "    </tr>\n",
       "    <tr>\n",
       "      <th>2</th>\n",
       "      <td>I highly recommend Au Festin de Babette for th...</td>\n",
       "      <td>Positive</td>\n",
       "    </tr>\n",
       "    <tr>\n",
       "      <th>3</th>\n",
       "      <td>Amazing soup and dauphinoise. BUT the wait for...</td>\n",
       "      <td>Negative</td>\n",
       "    </tr>\n",
       "    <tr>\n",
       "      <th>4</th>\n",
       "      <td>I went here by recommendation of a friend. Tho...</td>\n",
       "      <td>Negative</td>\n",
       "    </tr>\n",
       "  </tbody>\n",
       "</table>\n",
       "</div>"
      ],
      "text/plain": [
       "                                      Review_comment     Stars\n",
       "0  Too expensive for what they had... i had an eg...  Negative\n",
       "1  Very rustic place. Mismatched furniture, off K...  Positive\n",
       "2  I highly recommend Au Festin de Babette for th...  Positive\n",
       "3  Amazing soup and dauphinoise. BUT the wait for...  Negative\n",
       "4  I went here by recommendation of a friend. Tho...  Negative"
      ]
     },
     "execution_count": 9,
     "metadata": {},
     "output_type": "execute_result"
    }
   ],
   "source": [
    "# Read the Restaurant.csv file \n",
    "restaurant_txt = pd.read_csv(restaurant_csv_file)\n",
    "restaurant_txt.head()"
   ]
  },
  {
   "cell_type": "code",
   "execution_count": 10,
   "metadata": {},
   "outputs": [
    {
     "name": "stdout",
     "output_type": "stream",
     "text": [
      "Review_comment    0\n",
      "Stars             0\n",
      "dtype: int64\n"
     ]
    }
   ],
   "source": [
    "# Checking if there are null values in restaurant_txt\n",
    "print(restaurant_txt.isnull().sum())"
   ]
  },
  {
   "cell_type": "code",
   "execution_count": 11,
   "metadata": {},
   "outputs": [],
   "source": [
    "# To check how many Stars are Positive and Negative, get the count of them\n",
    "data_df = bar_txt.groupby(\"Stars\").count().reset_index()"
   ]
  },
  {
   "cell_type": "code",
   "execution_count": 12,
   "metadata": {},
   "outputs": [
    {
     "data": {
      "text/html": [
       "<div>\n",
       "<style scoped>\n",
       "    .dataframe tbody tr th:only-of-type {\n",
       "        vertical-align: middle;\n",
       "    }\n",
       "\n",
       "    .dataframe tbody tr th {\n",
       "        vertical-align: top;\n",
       "    }\n",
       "\n",
       "    .dataframe thead th {\n",
       "        text-align: right;\n",
       "    }\n",
       "</style>\n",
       "<table border=\"1\" class=\"dataframe\">\n",
       "  <thead>\n",
       "    <tr style=\"text-align: right;\">\n",
       "      <th></th>\n",
       "      <th>Stars</th>\n",
       "      <th>Review_comment</th>\n",
       "    </tr>\n",
       "  </thead>\n",
       "  <tbody>\n",
       "    <tr>\n",
       "      <th>0</th>\n",
       "      <td>Negative</td>\n",
       "      <td>565</td>\n",
       "    </tr>\n",
       "    <tr>\n",
       "      <th>1</th>\n",
       "      <td>Positive</td>\n",
       "      <td>895</td>\n",
       "    </tr>\n",
       "  </tbody>\n",
       "</table>\n",
       "</div>"
      ],
      "text/plain": [
       "      Stars  Review_comment\n",
       "0  Negative             565\n",
       "1  Positive             895"
      ]
     },
     "execution_count": 12,
     "metadata": {},
     "output_type": "execute_result"
    }
   ],
   "source": [
    "data_df"
   ]
  },
  {
   "cell_type": "code",
   "execution_count": 13,
   "metadata": {},
   "outputs": [
    {
     "data": {
      "text/plain": [
       "Text(0.5, 1.0, 'Positive vs Negative rating')"
      ]
     },
     "execution_count": 13,
     "metadata": {},
     "output_type": "execute_result"
    },
    {
     "data": {
      "image/png": "[encoded data removed]",
      "text/plain": [
       "<Figure size 360x720 with 1 Axes>"
      ]
     },
     "metadata": {
      "needs_background": "light"
     },
     "output_type": "display_data"
    }
   ],
   "source": [
    "# Plot the graph for number of Positive and Negative stars for Bar.csv\n",
    "plt.subplots(figsize=(5,10))\n",
    "sns.barplot(x='Stars', y = 'Review_comment', data=data_df).set_title(\"Positive vs Negative rating\")"
   ]
  },
  {
   "cell_type": "code",
   "execution_count": 14,
   "metadata": {},
   "outputs": [],
   "source": [
    "# To check how many Stars are Positive and Negative, get the count of them\n",
    "data_df = restaurant_txt.groupby(\"Stars\").count().reset_index()"
   ]
  },
  {
   "cell_type": "code",
   "execution_count": 15,
   "metadata": {},
   "outputs": [
    {
     "data": {
      "text/html": [
       "<div>\n",
       "<style scoped>\n",
       "    .dataframe tbody tr th:only-of-type {\n",
       "        vertical-align: middle;\n",
       "    }\n",
       "\n",
       "    .dataframe tbody tr th {\n",
       "        vertical-align: top;\n",
       "    }\n",
       "\n",
       "    .dataframe thead th {\n",
       "        text-align: right;\n",
       "    }\n",
       "</style>\n",
       "<table border=\"1\" class=\"dataframe\">\n",
       "  <thead>\n",
       "    <tr style=\"text-align: right;\">\n",
       "      <th></th>\n",
       "      <th>Stars</th>\n",
       "      <th>Review_comment</th>\n",
       "    </tr>\n",
       "  </thead>\n",
       "  <tbody>\n",
       "    <tr>\n",
       "      <th>0</th>\n",
       "      <td>Negative</td>\n",
       "      <td>507</td>\n",
       "    </tr>\n",
       "    <tr>\n",
       "      <th>1</th>\n",
       "      <td>Positive</td>\n",
       "      <td>933</td>\n",
       "    </tr>\n",
       "  </tbody>\n",
       "</table>\n",
       "</div>"
      ],
      "text/plain": [
       "      Stars  Review_comment\n",
       "0  Negative             507\n",
       "1  Positive             933"
      ]
     },
     "execution_count": 15,
     "metadata": {},
     "output_type": "execute_result"
    }
   ],
   "source": [
    "data_df"
   ]
  },
  {
   "cell_type": "code",
   "execution_count": 16,
   "metadata": {},
   "outputs": [
    {
     "data": {
      "text/plain": [
       "Text(0.5, 1.0, 'Positive vs Negative rating')"
      ]
     },
     "execution_count": 16,
     "metadata": {},
     "output_type": "execute_result"
    },
    {
     "data": {
      "image/png": "[encoded data removed]",
      "text/plain": [
       "<Figure size 360x720 with 1 Axes>"
      ]
     },
     "metadata": {
      "needs_background": "light"
     },
     "output_type": "display_data"
    }
   ],
   "source": [
    "plt.subplots(figsize=(5,10))\n",
    "sns.barplot(x='Stars', y = 'Review_comment', data=data_df).set_title(\"Positive vs Negative rating\")"
   ]
  },
  {
   "cell_type": "markdown",
   "metadata": {},
   "source": [
    "### Method to carry out the data pre-processing step"
   ]
  },
  {
   "cell_type": "code",
   "execution_count": 17,
   "metadata": {},
   "outputs": [],
   "source": [
    "# Method where the review_comment column is fetched and the stop words are removed ,\n",
    "# the code is stemmed and lemmetazed\n",
    "def text_pre_processing(msg):\n",
    "    # Stopwords list \n",
    "    stop = stopwords.words('english') + list(string.punctuation)\n",
    "    tokenizedRandomData = msg.lower().split()\n",
    "    # then use NLTK to perform lemmatisation on each token\n",
    "    lemmatizer = nltk.stem.WordNetLemmatizer()\n",
    "    lemma_tokens = []\n",
    "    for token in tokenizedRandomData:\n",
    "        if token not in stop:\n",
    "            lemma_tokens.append( lemmatizer.lemmatize(token) )\n",
    "    \n",
    "    new_sentence = ' '.join(lemma_tokens)\n",
    "    return new_sentence"
   ]
  },
  {
   "cell_type": "code",
   "execution_count": 18,
   "metadata": {},
   "outputs": [
    {
     "data": {
      "text/html": [
       "<div>\n",
       "<style scoped>\n",
       "    .dataframe tbody tr th:only-of-type {\n",
       "        vertical-align: middle;\n",
       "    }\n",
       "\n",
       "    .dataframe tbody tr th {\n",
       "        vertical-align: top;\n",
       "    }\n",
       "\n",
       "    .dataframe thead th {\n",
       "        text-align: right;\n",
       "    }\n",
       "</style>\n",
       "<table border=\"1\" class=\"dataframe\">\n",
       "  <thead>\n",
       "    <tr style=\"text-align: right;\">\n",
       "      <th></th>\n",
       "      <th>Review_comment</th>\n",
       "      <th>Stars</th>\n",
       "    </tr>\n",
       "  </thead>\n",
       "  <tbody>\n",
       "    <tr>\n",
       "      <th>0</th>\n",
       "      <td>expensive had... egg benedict plate called la ...</td>\n",
       "      <td>Negative</td>\n",
       "    </tr>\n",
       "    <tr>\n",
       "      <th>1</th>\n",
       "      <td>rustic place. mismatched furniture, knick knac...</td>\n",
       "      <td>Positive</td>\n",
       "    </tr>\n",
       "    <tr>\n",
       "      <th>2</th>\n",
       "      <td>highly recommend au festin de babette brunch. ...</td>\n",
       "      <td>Positive</td>\n",
       "    </tr>\n",
       "    <tr>\n",
       "      <th>3</th>\n",
       "      <td>amazing soup dauphinoise. wait table wait food...</td>\n",
       "      <td>Negative</td>\n",
       "    </tr>\n",
       "    <tr>\n",
       "      <th>4</th>\n",
       "      <td>went recommendation friend. though food enjoya...</td>\n",
       "      <td>Negative</td>\n",
       "    </tr>\n",
       "  </tbody>\n",
       "</table>\n",
       "</div>"
      ],
      "text/plain": [
       "                                      Review_comment     Stars\n",
       "0  expensive had... egg benedict plate called la ...  Negative\n",
       "1  rustic place. mismatched furniture, knick knac...  Positive\n",
       "2  highly recommend au festin de babette brunch. ...  Positive\n",
       "3  amazing soup dauphinoise. wait table wait food...  Negative\n",
       "4  went recommendation friend. though food enjoya...  Negative"
      ]
     },
     "execution_count": 18,
     "metadata": {},
     "output_type": "execute_result"
    }
   ],
   "source": [
    "# Calling the text_pre_processing method on the review_comment column\n",
    "restaurant_txt['Review_comment'] = restaurant_txt['Review_comment'].apply(text_pre_processing)\n",
    "\n",
    "# display the content after pre-processing\n",
    "restaurant_txt.head()"
   ]
  },
  {
   "cell_type": "code",
   "execution_count": 19,
   "metadata": {},
   "outputs": [
    {
     "data": {
      "text/html": [
       "<div>\n",
       "<style scoped>\n",
       "    .dataframe tbody tr th:only-of-type {\n",
       "        vertical-align: middle;\n",
       "    }\n",
       "\n",
       "    .dataframe tbody tr th {\n",
       "        vertical-align: top;\n",
       "    }\n",
       "\n",
       "    .dataframe thead th {\n",
       "        text-align: right;\n",
       "    }\n",
       "</style>\n",
       "<table border=\"1\" class=\"dataframe\">\n",
       "  <thead>\n",
       "    <tr style=\"text-align: right;\">\n",
       "      <th></th>\n",
       "      <th>Review_comment</th>\n",
       "      <th>Stars</th>\n",
       "    </tr>\n",
       "  </thead>\n",
       "  <tbody>\n",
       "    <tr>\n",
       "      <th>0</th>\n",
       "      <td>would help front girl sit u ask u drink put u ...</td>\n",
       "      <td>Negative</td>\n",
       "    </tr>\n",
       "    <tr>\n",
       "      <th>1</th>\n",
       "      <td>one star that's least amount leave. understand...</td>\n",
       "      <td>Negative</td>\n",
       "    </tr>\n",
       "    <tr>\n",
       "      <th>2</th>\n",
       "      <td>bad time today. dirty windows, table sticky, h...</td>\n",
       "      <td>Negative</td>\n",
       "    </tr>\n",
       "    <tr>\n",
       "      <th>3</th>\n",
       "      <td>second visit last year. experience similar: aw...</td>\n",
       "      <td>Negative</td>\n",
       "    </tr>\n",
       "    <tr>\n",
       "      <th>4</th>\n",
       "      <td>absolutely awful! took forever get food, food ...</td>\n",
       "      <td>Negative</td>\n",
       "    </tr>\n",
       "  </tbody>\n",
       "</table>\n",
       "</div>"
      ],
      "text/plain": [
       "                                      Review_comment     Stars\n",
       "0  would help front girl sit u ask u drink put u ...  Negative\n",
       "1  one star that's least amount leave. understand...  Negative\n",
       "2  bad time today. dirty windows, table sticky, h...  Negative\n",
       "3  second visit last year. experience similar: aw...  Negative\n",
       "4  absolutely awful! took forever get food, food ...  Negative"
      ]
     },
     "execution_count": 19,
     "metadata": {},
     "output_type": "execute_result"
    }
   ],
   "source": [
    "# Calling the text_pre_processing method on the review_comment column\n",
    "bar_txt['Review_comment'] = bar_txt['Review_comment'].apply(text_pre_processing)\n",
    "\n",
    "# display the content after pre-processing\n",
    "bar_txt.head()"
   ]
  },
  {
   "cell_type": "markdown",
   "metadata": {},
   "source": [
    "# Classifiers"
   ]
  },
  {
   "cell_type": "markdown",
   "metadata": {},
   "source": [
    "Machine learning works on the concept of diving data into training and test set , the trainings et is then used to train a model and the test set is used to evaluate the performance of a model. But best suited to estimate of out-of-sample accuracy."
   ]
  },
  {
   "cell_type": "markdown",
   "metadata": {},
   "source": [
    "### Converting the textual information into vectorixed values and generating accuracy with appropriate classifier"
   ]
  },
  {
   "cell_type": "markdown",
   "metadata": {},
   "source": [
    "***Model evaluation metric:***\n",
    "    1. Classification Accuracy \n",
    "    2. Accuracy calculated with confusion metric\n",
    "    3. Misclassification rate\n",
    "    4. Sensitivity\n",
    "    5. Specificity"
   ]
  },
  {
   "cell_type": "markdown",
   "metadata": {},
   "source": [
    "### The method used to train the model which has the fit and the predict method and also compute accuracy"
   ]
  },
  {
   "cell_type": "code",
   "execution_count": 20,
   "metadata": {},
   "outputs": [],
   "source": [
    "def classifier(dataframe):\n",
    "    \n",
    "    # Splitting the data to train and test by using the dataframe that is passed to the function\n",
    "    X_train, X_test, y_train, y_test = train_test_split(dataframe['Review_comment'], dataframe['Stars'])\n",
    "    \n",
    "    # Vectorize the textual value to numeric values\n",
    "    tfidf_vect = TfidfVectorizer(min_df=5, stop_words=stopwords.words('english')) \n",
    "    \n",
    "    # Use each category dataset and split them into train and test set\n",
    "    tfidf_vect.fit(dataframe['Review_comment'])\n",
    "    xtrain_tfidf =  tfidf_vect.transform(X_train)\n",
    "    xtest_tfidf =  tfidf_vect.transform(X_test)\n",
    "\n",
    "    # Creating a list with all teh classifiers that we are using\n",
    "    classifiers = [\n",
    "        KNeighborsClassifier(n_neighbors=5),\n",
    "        MultinomialNB(),\n",
    "        DecisionTreeClassifier(),\n",
    "        RandomForestClassifier(),\n",
    "        LogisticRegression(),\n",
    "    ]\n",
    "\n",
    "    # loop over the classifiers and fit the model and predict it along with generating the confusion matrix\n",
    "    acc = []\n",
    "    acc_cross_val = []\n",
    "    for classifier in classifiers:\n",
    "        # Creating a pipeline with which we can have multiple classifiers\n",
    "        pipe = Pipeline(steps=[('classifier', classifier)])\n",
    "        pipe.fit(xtrain_tfidf, y_train)  \n",
    "        predicted = pipe.predict(xtest_tfidf)\n",
    "        print(\"********************************CLASSIFICATION MODEL**************************************************\")\n",
    "        print(classifier)\n",
    "        \n",
    "        print(\"Accuracy score: %.3f\" % accuracy_score(predicted, y_test))\n",
    "        \n",
    "        accuracy = cross_val_score(classifier, xtrain_tfidf, y_train, scoring='accuracy', cv=5)\n",
    "        print(\"Accuracy for cross validation : \" + str(round(100*accuracy.mean(), 2)))\n",
    "        \n",
    "        print(\"Classfication Report\")\n",
    "        print(\"______________________\")\n",
    "        print(metrics.classification_report(y_test, predicted))\n",
    "        \n",
    "        # save confusion matrix and slice into four pieces\n",
    "        confusion = metrics.confusion_matrix(y_test, predicted)\n",
    "        #[row, column]\n",
    "        TP = confusion[1, 1]\n",
    "        TN = confusion[0, 0]\n",
    "        FP = confusion[0, 1]\n",
    "        FN = confusion[1, 0]\n",
    "        \n",
    "        classification_error = (FP + FN) / float(TP + TN + FP + FN)\n",
    "        sensitivity = TP / float(FN + TP)\n",
    "        specificity = TN / (TN + FP)\n",
    "        print(\"Accuracy computed by confusion matrix : \" + str((TP + TN) / float(TP + TN + FP + FN)))\n",
    "        print(\"Misclassification Rate : \" + str(classification_error))\n",
    "        print(\"Sensitivity : \" + str(sensitivity))\n",
    "        print(\"Specificity : \" + str(specificity))\n",
    "        \n",
    "        print(\"Confusion Metrics\")\n",
    "        print(\"__________________\")\n",
    "        print(pd.crosstab(np.array(y_test), predicted, rownames=['True'], colnames=['Predicted'], margins=True))\n",
    "        \n",
    "        # appending the accuracy scores to a list which is later used for plotting purpose\n",
    "        acc.append(accuracy_score(predicted, y_test)*100)\n",
    "        acc_cross_val.append(100*accuracy.mean())\n",
    "        \n",
    "    return acc, acc_cross_val"
   ]
  },
  {
   "cell_type": "markdown",
   "metadata": {},
   "source": [
    "***Calling the classifier method on the Restaurant data***"
   ]
  },
  {
   "cell_type": "code",
   "execution_count": 21,
   "metadata": {},
   "outputs": [
    {
     "name": "stdout",
     "output_type": "stream",
     "text": [
      "********************************CLASSIFICATION MODEL**************************************************\n",
      "KNeighborsClassifier(algorithm='auto', leaf_size=30, metric='minkowski',\n",
      "           metric_params=None, n_jobs=None, n_neighbors=5, p=2,\n",
      "           weights='uniform')\n",
      "Accuracy score: 0.756\n",
      "Accuracy for cross validation : 77.23\n",
      "Classfication Report\n",
      "______________________\n",
      "              precision    recall  f1-score   support\n",
      "\n",
      "    Negative       0.76      0.51      0.61       136\n",
      "    Positive       0.75      0.90      0.82       224\n",
      "\n",
      "   micro avg       0.76      0.76      0.76       360\n",
      "   macro avg       0.76      0.71      0.72       360\n",
      "weighted avg       0.76      0.76      0.74       360\n",
      "\n",
      "Accuracy computed by confusion matrix : 0.7555555555555555\n",
      "Misclassification Rate : 0.24444444444444444\n",
      "Sensitivity : 0.9017857142857143\n",
      "Specificity : 0.5147058823529411\n",
      "Confusion Metrics\n",
      "__________________\n",
      "Predicted  Negative  Positive  All\n",
      "True                              \n",
      "Negative         70        66  136\n",
      "Positive         22       202  224\n",
      "All              92       268  360\n",
      "********************************CLASSIFICATION MODEL**************************************************\n",
      "MultinomialNB(alpha=1.0, class_prior=None, fit_prior=True)\n",
      "Accuracy score: 0.772\n",
      "Accuracy for cross validation : 78.06\n",
      "Classfication Report\n",
      "______________________\n",
      "              precision    recall  f1-score   support\n",
      "\n",
      "    Negative       0.91      0.44      0.59       136\n",
      "    Positive       0.74      0.97      0.84       224\n",
      "\n",
      "   micro avg       0.77      0.77      0.77       360\n",
      "   macro avg       0.83      0.71      0.72       360\n",
      "weighted avg       0.80      0.77      0.75       360\n",
      "\n",
      "Accuracy computed by confusion matrix : 0.7722222222222223\n",
      "Misclassification Rate : 0.22777777777777777\n",
      "Sensitivity : 0.9732142857142857\n",
      "Specificity : 0.4411764705882353\n",
      "Confusion Metrics\n",
      "__________________\n",
      "Predicted  Negative  Positive  All\n",
      "True                              \n",
      "Negative         60        76  136\n",
      "Positive          6       218  224\n",
      "All              66       294  360\n",
      "********************************CLASSIFICATION MODEL**************************************************\n",
      "DecisionTreeClassifier(class_weight=None, criterion='gini', max_depth=None,\n",
      "            max_features=None, max_leaf_nodes=None,\n",
      "            min_impurity_decrease=0.0, min_impurity_split=None,\n",
      "            min_samples_leaf=1, min_samples_split=2,\n",
      "            min_weight_fraction_leaf=0.0, presort=False, random_state=None,\n",
      "            splitter='best')\n",
      "Accuracy score: 0.703\n",
      "Accuracy for cross validation : 73.14\n",
      "Classfication Report\n",
      "______________________\n",
      "              precision    recall  f1-score   support\n",
      "\n",
      "    Negative       0.62      0.55      0.58       136\n",
      "    Positive       0.74      0.79      0.77       224\n",
      "\n",
      "   micro avg       0.70      0.70      0.70       360\n",
      "   macro avg       0.68      0.67      0.68       360\n",
      "weighted avg       0.70      0.70      0.70       360\n",
      "\n",
      "Accuracy computed by confusion matrix : 0.7027777777777777\n",
      "Misclassification Rate : 0.2972222222222222\n",
      "Sensitivity : 0.7946428571428571\n",
      "Specificity : 0.5514705882352942\n",
      "Confusion Metrics\n",
      "__________________\n",
      "Predicted  Negative  Positive  All\n",
      "True                              \n",
      "Negative         75        61  136\n",
      "Positive         46       178  224\n",
      "All             121       239  360\n",
      "********************************CLASSIFICATION MODEL**************************************************\n",
      "RandomForestClassifier(bootstrap=True, class_weight=None, criterion='gini',\n",
      "            max_depth=None, max_features='auto', max_leaf_nodes=None,\n",
      "            min_impurity_decrease=0.0, min_impurity_split=None,\n",
      "            min_samples_leaf=1, min_samples_split=2,\n",
      "            min_weight_fraction_leaf=0.0, n_estimators=10, n_jobs=None,\n",
      "            oob_score=False, random_state=None, verbose=0,\n",
      "            warm_start=False)\n",
      "Accuracy score: 0.769\n"
     ]
    },
    {
     "name": "stderr",
     "output_type": "stream",
     "text": [
      "C:\\Users\\Chaitra\\Anaconda3\\envs\\Python\\lib\\site-packages\\sklearn\\ensemble\\forest.py:246: FutureWarning: The default value of n_estimators will change from 10 in version 0.20 to 100 in 0.22.\n",
      "  \"10 in version 0.20 to 100 in 0.22.\", FutureWarning)\n"
     ]
    },
    {
     "name": "stdout",
     "output_type": "stream",
     "text": [
      "Accuracy for cross validation : 75.74\n",
      "Classfication Report\n",
      "______________________\n",
      "              precision    recall  f1-score   support\n",
      "\n",
      "    Negative       0.72      0.65      0.68       136\n",
      "    Positive       0.80      0.84      0.82       224\n",
      "\n",
      "   micro avg       0.77      0.77      0.77       360\n",
      "   macro avg       0.76      0.75      0.75       360\n",
      "weighted avg       0.77      0.77      0.77       360\n",
      "\n",
      "Accuracy computed by confusion matrix : 0.7694444444444445\n",
      "Misclassification Rate : 0.23055555555555557\n",
      "Sensitivity : 0.84375\n",
      "Specificity : 0.6470588235294118\n",
      "Confusion Metrics\n",
      "__________________\n",
      "Predicted  Negative  Positive  All\n",
      "True                              \n",
      "Negative         88        48  136\n",
      "Positive         35       189  224\n",
      "All             123       237  360\n",
      "********************************CLASSIFICATION MODEL**************************************************\n",
      "LogisticRegression(C=1.0, class_weight=None, dual=False, fit_intercept=True,\n",
      "          intercept_scaling=1, max_iter=100, multi_class='warn',\n",
      "          n_jobs=None, penalty='l2', random_state=None, solver='warn',\n",
      "          tol=0.0001, verbose=0, warm_start=False)\n",
      "Accuracy score: 0.828\n",
      "Accuracy for cross validation : 81.3\n",
      "Classfication Report\n",
      "______________________\n",
      "              precision    recall  f1-score   support\n",
      "\n",
      "    Negative       0.89      0.62      0.73       136\n",
      "    Positive       0.81      0.95      0.87       224\n",
      "\n",
      "   micro avg       0.83      0.83      0.83       360\n",
      "   macro avg       0.85      0.79      0.80       360\n",
      "weighted avg       0.84      0.83      0.82       360\n",
      "\n",
      "Accuracy computed by confusion matrix : 0.8277777777777777\n",
      "Misclassification Rate : 0.17222222222222222\n",
      "Sensitivity : 0.9508928571428571\n",
      "Specificity : 0.625\n",
      "Confusion Metrics\n",
      "__________________\n",
      "Predicted  Negative  Positive  All\n",
      "True                              \n",
      "Negative         85        51  136\n",
      "Positive         11       213  224\n",
      "All              96       264  360\n"
     ]
    },
    {
     "name": "stderr",
     "output_type": "stream",
     "text": [
      "C:\\Users\\Chaitra\\Anaconda3\\envs\\Python\\lib\\site-packages\\sklearn\\linear_model\\logistic.py:433: FutureWarning: Default solver will be changed to 'lbfgs' in 0.22. Specify a solver to silence this warning.\n",
      "  FutureWarning)\n",
      "C:\\Users\\Chaitra\\Anaconda3\\envs\\Python\\lib\\site-packages\\sklearn\\linear_model\\logistic.py:433: FutureWarning: Default solver will be changed to 'lbfgs' in 0.22. Specify a solver to silence this warning.\n",
      "  FutureWarning)\n"
     ]
    }
   ],
   "source": [
    "accuracies_restaurant,accuracies_restaurant_cross_val  = classifier(restaurant_txt)"
   ]
  },
  {
   "cell_type": "code",
   "execution_count": 22,
   "metadata": {},
   "outputs": [
    {
     "data": {
      "image/png": "[encoded data removed]",
      "text/plain": [
       "<Figure size 432x288 with 1 Axes>"
      ]
     },
     "metadata": {
      "needs_background": "light"
     },
     "output_type": "display_data"
    }
   ],
   "source": [
    "x = ['KNN', 'Naive Bayes', 'DecisionTree', 'RandomForest', 'LogReg']\n",
    "\n",
    "f, ax = plt.subplots(1, 1)\n",
    "ax.plot_date(x, accuracies_restaurant, color=\"blue\", label=\"Accuracy\", linestyle=\"-\")\n",
    "ax.plot_date(x, accuracies_restaurant_cross_val, color=\"red\", label=\"Accuracy with cross validation\", linestyle=\"-\")\n",
    "ax.legend()\n",
    "\n",
    "plt.title(\"Accuracies vs Classifiers for Restaurant dataset\")\n",
    "plt.gcf().autofmt_xdate()\n",
    "plt.show()\n"
   ]
  },
  {
   "cell_type": "markdown",
   "metadata": {},
   "source": [
    "In the above graph we can see that the ***Blue Line*** indicates the value accuarcy generated by the models and the ***Red line*** fine in the graph indicates the accuracy after running cross_validation on these classifiers"
   ]
  },
  {
   "cell_type": "markdown",
   "metadata": {},
   "source": [
    "***Calling the classifier method on the Bar data***"
   ]
  },
  {
   "cell_type": "code",
   "execution_count": 23,
   "metadata": {},
   "outputs": [
    {
     "name": "stdout",
     "output_type": "stream",
     "text": [
      "********************************CLASSIFICATION MODEL**************************************************\n",
      "KNeighborsClassifier(algorithm='auto', leaf_size=30, metric='minkowski',\n",
      "           metric_params=None, n_jobs=None, n_neighbors=5, p=2,\n",
      "           weights='uniform')\n",
      "Accuracy score: 0.792\n",
      "Accuracy for cross validation : 76.71\n",
      "Classfication Report\n",
      "______________________\n",
      "              precision    recall  f1-score   support\n",
      "\n",
      "    Negative       0.79      0.66      0.72       146\n",
      "    Positive       0.79      0.88      0.84       219\n",
      "\n",
      "   micro avg       0.79      0.79      0.79       365\n",
      "   macro avg       0.79      0.77      0.78       365\n",
      "weighted avg       0.79      0.79      0.79       365\n",
      "\n",
      "Accuracy computed by confusion matrix : 0.7917808219178082\n",
      "Misclassification Rate : 0.20821917808219179\n",
      "Sensitivity : 0.8812785388127854\n",
      "Specificity : 0.6575342465753424\n",
      "Confusion Metrics\n",
      "__________________\n",
      "Predicted  Negative  Positive  All\n",
      "True                              \n",
      "Negative         96        50  146\n",
      "Positive         26       193  219\n",
      "All             122       243  365\n",
      "********************************CLASSIFICATION MODEL**************************************************\n",
      "MultinomialNB(alpha=1.0, class_prior=None, fit_prior=True)\n",
      "Accuracy score: 0.849\n",
      "Accuracy for cross validation : 82.92\n",
      "Classfication Report\n",
      "______________________\n",
      "              precision    recall  f1-score   support\n",
      "\n",
      "    Negative       0.94      0.66      0.78       146\n",
      "    Positive       0.81      0.97      0.89       219\n",
      "\n",
      "   micro avg       0.85      0.85      0.85       365\n",
      "   macro avg       0.88      0.82      0.83       365\n",
      "weighted avg       0.86      0.85      0.84       365\n",
      "\n",
      "Accuracy computed by confusion matrix : 0.8493150684931506\n",
      "Misclassification Rate : 0.1506849315068493\n",
      "Sensitivity : 0.9726027397260274\n",
      "Specificity : 0.6643835616438356\n",
      "Confusion Metrics\n",
      "__________________\n",
      "Predicted  Negative  Positive  All\n",
      "True                              \n",
      "Negative         97        49  146\n",
      "Positive          6       213  219\n",
      "All             103       262  365\n",
      "********************************CLASSIFICATION MODEL**************************************************\n",
      "DecisionTreeClassifier(class_weight=None, criterion='gini', max_depth=None,\n",
      "            max_features=None, max_leaf_nodes=None,\n",
      "            min_impurity_decrease=0.0, min_impurity_split=None,\n",
      "            min_samples_leaf=1, min_samples_split=2,\n",
      "            min_weight_fraction_leaf=0.0, presort=False, random_state=None,\n",
      "            splitter='best')\n",
      "Accuracy score: 0.745\n",
      "Accuracy for cross validation : 72.05\n",
      "Classfication Report\n",
      "______________________\n",
      "              precision    recall  f1-score   support\n",
      "\n",
      "    Negative       0.69      0.66      0.67       146\n",
      "    Positive       0.78      0.80      0.79       219\n",
      "\n",
      "   micro avg       0.75      0.75      0.75       365\n",
      "   macro avg       0.73      0.73      0.73       365\n",
      "weighted avg       0.74      0.75      0.74       365\n",
      "\n",
      "Accuracy computed by confusion matrix : 0.7452054794520548\n",
      "Misclassification Rate : 0.2547945205479452\n",
      "Sensitivity : 0.8036529680365296\n",
      "Specificity : 0.6575342465753424\n",
      "Confusion Metrics\n",
      "__________________\n",
      "Predicted  Negative  Positive  All\n",
      "True                              \n",
      "Negative         96        50  146\n",
      "Positive         43       176  219\n",
      "All             139       226  365\n",
      "********************************CLASSIFICATION MODEL**************************************************\n",
      "RandomForestClassifier(bootstrap=True, class_weight=None, criterion='gini',\n",
      "            max_depth=None, max_features='auto', max_leaf_nodes=None,\n",
      "            min_impurity_decrease=0.0, min_impurity_split=None,\n",
      "            min_samples_leaf=1, min_samples_split=2,\n",
      "            min_weight_fraction_leaf=0.0, n_estimators=10, n_jobs=None,\n",
      "            oob_score=False, random_state=None, verbose=0,\n",
      "            warm_start=False)\n",
      "Accuracy score: 0.786\n",
      "Accuracy for cross validation : 78.36\n",
      "Classfication Report\n",
      "______________________\n"
     ]
    },
    {
     "name": "stderr",
     "output_type": "stream",
     "text": [
      "C:\\Users\\Chaitra\\Anaconda3\\envs\\Python\\lib\\site-packages\\sklearn\\ensemble\\forest.py:246: FutureWarning: The default value of n_estimators will change from 10 in version 0.20 to 100 in 0.22.\n",
      "  \"10 in version 0.20 to 100 in 0.22.\", FutureWarning)\n"
     ]
    },
    {
     "name": "stdout",
     "output_type": "stream",
     "text": [
      "              precision    recall  f1-score   support\n",
      "\n",
      "    Negative       0.76      0.68      0.72       146\n",
      "    Positive       0.80      0.86      0.83       219\n",
      "\n",
      "   micro avg       0.79      0.79      0.79       365\n",
      "   macro avg       0.78      0.77      0.77       365\n",
      "weighted avg       0.78      0.79      0.78       365\n",
      "\n",
      "Accuracy computed by confusion matrix : 0.7863013698630137\n",
      "Misclassification Rate : 0.2136986301369863\n",
      "Sensitivity : 0.8584474885844748\n",
      "Specificity : 0.678082191780822\n",
      "Confusion Metrics\n",
      "__________________\n",
      "Predicted  Negative  Positive  All\n",
      "True                              \n",
      "Negative         99        47  146\n",
      "Positive         31       188  219\n",
      "All             130       235  365\n",
      "********************************CLASSIFICATION MODEL**************************************************\n",
      "LogisticRegression(C=1.0, class_weight=None, dual=False, fit_intercept=True,\n",
      "          intercept_scaling=1, max_iter=100, multi_class='warn',\n",
      "          n_jobs=None, penalty='l2', random_state=None, solver='warn',\n",
      "          tol=0.0001, verbose=0, warm_start=False)\n",
      "Accuracy score: 0.868\n",
      "Accuracy for cross validation : 83.11\n",
      "Classfication Report\n",
      "______________________\n",
      "              precision    recall  f1-score   support\n",
      "\n",
      "    Negative       0.94      0.72      0.81       146\n",
      "    Positive       0.84      0.97      0.90       219\n",
      "\n",
      "   micro avg       0.87      0.87      0.87       365\n",
      "   macro avg       0.89      0.84      0.86       365\n",
      "weighted avg       0.88      0.87      0.86       365\n",
      "\n",
      "Accuracy computed by confusion matrix : 0.8684931506849315\n",
      "Misclassification Rate : 0.13150684931506848\n",
      "Sensitivity : 0.9680365296803652\n",
      "Specificity : 0.7191780821917808\n",
      "Confusion Metrics\n",
      "__________________\n",
      "Predicted  Negative  Positive  All\n",
      "True                              \n",
      "Negative        105        41  146\n",
      "Positive          7       212  219\n",
      "All             112       253  365\n"
     ]
    },
    {
     "name": "stderr",
     "output_type": "stream",
     "text": [
      "C:\\Users\\Chaitra\\Anaconda3\\envs\\Python\\lib\\site-packages\\sklearn\\linear_model\\logistic.py:433: FutureWarning: Default solver will be changed to 'lbfgs' in 0.22. Specify a solver to silence this warning.\n",
      "  FutureWarning)\n",
      "C:\\Users\\Chaitra\\Anaconda3\\envs\\Python\\lib\\site-packages\\sklearn\\linear_model\\logistic.py:433: FutureWarning: Default solver will be changed to 'lbfgs' in 0.22. Specify a solver to silence this warning.\n",
      "  FutureWarning)\n"
     ]
    }
   ],
   "source": [
    "accuracies_bar, accuracies_bar_cross_val = classifier(bar_txt)"
   ]
  },
  {
   "cell_type": "code",
   "execution_count": 24,
   "metadata": {},
   "outputs": [
    {
     "data": {
      "image/png": "[encoded data removed]",
      "text/plain": [
       "<Figure size 432x288 with 1 Axes>"
      ]
     },
     "metadata": {
      "needs_background": "light"
     },
     "output_type": "display_data"
    }
   ],
   "source": [
    "f, ax = plt.subplots(1, 1)\n",
    "ax.plot_date(x, accuracies_bar, color=\"blue\", label=\"Accuracy\", linestyle=\"-\")\n",
    "ax.plot_date(x, accuracies_bar_cross_val, color=\"red\", label=\"Accuracy with cross validation\", linestyle=\"-\")\n",
    "ax.legend()\n",
    "\n",
    "plt.title(\"Accuracies vs Classifiers for Restaurant dataset\")\n",
    "plt.gcf().autofmt_xdate()\n",
    "plt.show()\n"
   ]
  },
  {
   "cell_type": "markdown",
   "metadata": {},
   "source": [
    "In the above graoh we ca see that the ***Blue Line*** indicates the value accuarcy generated by the models and the ***Red line*** fine in the graoh indicates the accuracy after running cross_validation on these classifiers"
   ]
  },
  {
   "cell_type": "markdown",
   "metadata": {},
   "source": [
    "***Cross Validation:*** In case of cross validation it might lead to variance issue , the accuracy obtained by one test set is quite different from the one obtained by another with the same algorithm.\n",
    "    "
   ]
  },
  {
   "cell_type": "markdown",
   "metadata": {},
   "source": [
    "***Observation:***  In our case the data was textual and hence we used the TfIDF vectorizor to convert it into numeric values. Using 4 different models to train and test each of the catergories chosen (here i have chosen the Restaurent and the Bar dataset) , and computed the accuracy results for these two caterogies. \n",
    "There are lot of factors that we can used to measure the performance of a model\n",
    "1. *Classfictaion Accuracy :* Which is computed by using the train set to train the model and test set to test the model\n",
    "2. *Accuracy:* computed using the confusion metrics: We also can generate a confusion metrics which would suggest how often the classfier was correct .\n",
    "3. *classficiation error/ Misclassification rate:* this is used to estimate how often the classifier is incorrect.\n",
    "4. *Sensitivity :* when the value of this is positive how often the prediction is correct, how often will the classifier provide the accurate results. How sensitive is the classifier in predicting the positive results.\n",
    "5. *Specificity:* How specific is our classifier in predicting positive instance.\n",
    "\n",
    "For both the catergories , we have seen that the ***MultinomialNB*** and ***LogisticRegression*** regression performed the best. \n",
    "\n",
    "***Naive Bayes*** => based on Bayes’ Theorem with an assumption of independence among predictors. A Naive Bayes classifier assumes that the presence of a particular feature in a class is unrelated to the presence of any other feature.\n",
    "\n",
    "***Logistic regression*** => measures the relationship between the categorical dependent variable and one or more independent variables by estimating probabilities using a logistic/sigmoid function. \n",
    "\n",
    "Also as seen in the results , there is less misclassification rate and higher accuracy for for these two models."
   ]
  },
  {
   "cell_type": "markdown",
   "metadata": {},
   "source": [
    "### Hypothesis: Since both Bar and Restaurant belong to almost similar category, we can state that the accuracy will be higher for these comparision"
   ]
  },
  {
   "cell_type": "markdown",
   "metadata": {},
   "source": [
    "### Common method to classify between categories"
   ]
  },
  {
   "cell_type": "code",
   "execution_count": 25,
   "metadata": {},
   "outputs": [],
   "source": [
    "def classfier_between_categories(dataframe1, dataframe2):\n",
    "    # Use the TfidfVectorizer to convert tectual value into numeric\n",
    "    tfidfconverter = TfidfVectorizer(min_df=5, stop_words=stopwords.words('english')) \n",
    "    \n",
    "    # The review_comment will be our X and we use the TfidfVectorizer fit_tranform\n",
    "    train_X = tfidfconverter.fit_transform(dataframe1['Review_comment']).toarray() \n",
    "    test_X = tfidfconverter.transform(dataframe2['Review_comment']).toarray()\n",
    "    \n",
    "    train_y = dataframe1['Stars']\n",
    "    test_y = dataframe2['Stars']\n",
    "    \n",
    "    # Creating a list with all teh classifiers that we are using\n",
    "    classifiers = [\n",
    "        KNeighborsClassifier(n_neighbors=5),\n",
    "        MultinomialNB(),\n",
    "        DecisionTreeClassifier(),\n",
    "        RandomForestClassifier(),\n",
    "        LogisticRegression(),\n",
    "    ]\n",
    "    \n",
    "    accuracy_list = []\n",
    "    acc_cross_val = []\n",
    "    # loop over the classifiers and fit the model and predict it along with generating the confusion matrix\n",
    "    for classifier in classifiers:\n",
    "         # Creating a pipeline with which we can have multiple classifiers\n",
    "        pipe = Pipeline(steps=[('classifier', classifier)])\n",
    "        pipe.fit(train_X, train_y)   \n",
    "        predicted = pipe.predict(test_X)\n",
    "        \n",
    "        print(\"********************************CLASSIFICATION MODEL**************************************************\")\n",
    "        print(classifier)\n",
    "        \n",
    "        print(\"Accuracy score: %.3f\" % accuracy_score(predicted, test_y))\n",
    "        \n",
    "        accuracy = cross_val_score(classifier, train_X, train_y, scoring='accuracy', cv=5)\n",
    "        print(\"Accuracy for cross validation : \" + str(round(100*accuracy.mean(), 2)))\n",
    "        \n",
    "        print(\"Classfication Report\")\n",
    "        print(\"________________________\")\n",
    "        print(metrics.classification_report(test_y, predicted))\n",
    "        \n",
    "        # save confusion matrix and slice into four pieces\n",
    "        confusion = metrics.confusion_matrix(test_y, predicted)\n",
    "        # Taking the values from the confusion metrics\n",
    "        #[row, column]\n",
    "        TP = confusion[1, 1]\n",
    "        TN = confusion[0, 0]\n",
    "        FP = confusion[0, 1]\n",
    "        FN = confusion[1, 0]\n",
    "        \n",
    "        # computing the scores for different metrics\n",
    "        classification_error = (FP + FN) / float(TP + TN + FP + FN)\n",
    "        sensitivity = TP / float(FN + TP)\n",
    "        specificity = TN / (TN + FP)\n",
    "        print(\"Metrics computed by confusion matrix : \" + str((TP + TN) / float(TP + TN + FP + FN)))\n",
    "        print(\"Misclassification Rate : \" +str(classification_error))\n",
    "        print(\"Sensitivity : \" + str(sensitivity))\n",
    "        print(\"Specificity : \" + str(specificity))\n",
    "        print(\"Confusion Metrics\")\n",
    "        print(\"________________________\")\n",
    "        print(pd.crosstab(np.array(test_y), predicted, rownames=['True'], colnames=['Predicted'], margins=True))\n",
    "        accuracy_list.append(accuracy_score(predicted, test_y)*100)\n",
    "        acc_cross_val.append(100*accuracy.mean())\n",
    "    return accuracy_list, acc_cross_val"
   ]
  },
  {
   "cell_type": "markdown",
   "metadata": {},
   "source": [
    "# Category A (Restaurant) as training and Category B(Bar) as test"
   ]
  },
  {
   "cell_type": "code",
   "execution_count": 26,
   "metadata": {},
   "outputs": [
    {
     "name": "stdout",
     "output_type": "stream",
     "text": [
      "********************************CLASSIFICATION MODEL**************************************************\n",
      "KNeighborsClassifier(algorithm='auto', leaf_size=30, metric='minkowski',\n",
      "           metric_params=None, n_jobs=None, n_neighbors=5, p=2,\n",
      "           weights='uniform')\n",
      "Accuracy score: 0.760\n",
      "Accuracy for cross validation : 74.65\n",
      "Classfication Report\n",
      "________________________\n",
      "              precision    recall  f1-score   support\n",
      "\n",
      "    Negative       0.73      0.60      0.66       565\n",
      "    Positive       0.77      0.86      0.82       895\n",
      "\n",
      "   micro avg       0.76      0.76      0.76      1460\n",
      "   macro avg       0.75      0.73      0.74      1460\n",
      "weighted avg       0.76      0.76      0.75      1460\n",
      "\n",
      "Metrics computed by confusion matrix : 0.7602739726027398\n",
      "Misclassification Rate : 0.23972602739726026\n",
      "Sensitivity : 0.8614525139664805\n",
      "Specificity : 0.6\n",
      "Confusion Metrics\n",
      "________________________\n",
      "Predicted  Negative  Positive   All\n",
      "True                               \n",
      "Negative        339       226   565\n",
      "Positive        124       771   895\n",
      "All             463       997  1460\n",
      "********************************CLASSIFICATION MODEL**************************************************\n",
      "MultinomialNB(alpha=1.0, class_prior=None, fit_prior=True)\n",
      "Accuracy score: 0.815\n",
      "Accuracy for cross validation : 79.86\n",
      "Classfication Report\n",
      "________________________\n",
      "              precision    recall  f1-score   support\n",
      "\n",
      "    Negative       0.94      0.56      0.70       565\n",
      "    Positive       0.78      0.98      0.87       895\n",
      "\n",
      "   micro avg       0.82      0.82      0.82      1460\n",
      "   macro avg       0.86      0.77      0.78      1460\n",
      "weighted avg       0.84      0.82      0.80      1460\n",
      "\n",
      "Metrics computed by confusion matrix : 0.815068493150685\n",
      "Misclassification Rate : 0.18493150684931506\n",
      "Sensitivity : 0.976536312849162\n",
      "Specificity : 0.5592920353982301\n",
      "Confusion Metrics\n",
      "________________________\n",
      "Predicted  Negative  Positive   All\n",
      "True                               \n",
      "Negative        316       249   565\n",
      "Positive         21       874   895\n",
      "All             337      1123  1460\n",
      "********************************CLASSIFICATION MODEL**************************************************\n",
      "DecisionTreeClassifier(class_weight=None, criterion='gini', max_depth=None,\n",
      "            max_features=None, max_leaf_nodes=None,\n",
      "            min_impurity_decrease=0.0, min_impurity_split=None,\n",
      "            min_samples_leaf=1, min_samples_split=2,\n",
      "            min_weight_fraction_leaf=0.0, presort=False, random_state=None,\n",
      "            splitter='best')\n",
      "Accuracy score: 0.749\n",
      "Accuracy for cross validation : 72.43\n",
      "Classfication Report\n",
      "________________________\n",
      "              precision    recall  f1-score   support\n",
      "\n",
      "    Negative       0.69      0.63      0.66       565\n",
      "    Positive       0.78      0.82      0.80       895\n",
      "\n",
      "   micro avg       0.75      0.75      0.75      1460\n",
      "   macro avg       0.74      0.73      0.73      1460\n",
      "weighted avg       0.75      0.75      0.75      1460\n",
      "\n",
      "Metrics computed by confusion matrix : 0.7486301369863013\n",
      "Misclassification Rate : 0.2513698630136986\n",
      "Sensitivity : 0.8223463687150838\n",
      "Specificity : 0.631858407079646\n",
      "Confusion Metrics\n",
      "________________________\n",
      "Predicted  Negative  Positive   All\n",
      "True                               \n",
      "Negative        357       208   565\n",
      "Positive        159       736   895\n",
      "All             516       944  1460\n",
      "********************************CLASSIFICATION MODEL**************************************************\n",
      "RandomForestClassifier(bootstrap=True, class_weight=None, criterion='gini',\n",
      "            max_depth=None, max_features='auto', max_leaf_nodes=None,\n",
      "            min_impurity_decrease=0.0, min_impurity_split=None,\n",
      "            min_samples_leaf=1, min_samples_split=2,\n",
      "            min_weight_fraction_leaf=0.0, n_estimators=10, n_jobs=None,\n",
      "            oob_score=False, random_state=None, verbose=0,\n",
      "            warm_start=False)\n",
      "Accuracy score: 0.792\n"
     ]
    },
    {
     "name": "stderr",
     "output_type": "stream",
     "text": [
      "C:\\Users\\Chaitra\\Anaconda3\\envs\\Python\\lib\\site-packages\\sklearn\\ensemble\\forest.py:246: FutureWarning: The default value of n_estimators will change from 10 in version 0.20 to 100 in 0.22.\n",
      "  \"10 in version 0.20 to 100 in 0.22.\", FutureWarning)\n"
     ]
    },
    {
     "name": "stdout",
     "output_type": "stream",
     "text": [
      "Accuracy for cross validation : 79.1\n",
      "Classfication Report\n",
      "________________________\n",
      "              precision    recall  f1-score   support\n",
      "\n",
      "    Negative       0.75      0.70      0.72       565\n",
      "    Positive       0.82      0.85      0.83       895\n",
      "\n",
      "   micro avg       0.79      0.79      0.79      1460\n",
      "   macro avg       0.78      0.78      0.78      1460\n",
      "weighted avg       0.79      0.79      0.79      1460\n",
      "\n",
      "Metrics computed by confusion matrix : 0.7924657534246575\n",
      "Misclassification Rate : 0.20753424657534247\n",
      "Sensitivity : 0.8480446927374302\n",
      "Specificity : 0.7044247787610619\n",
      "Confusion Metrics\n",
      "________________________\n",
      "Predicted  Negative  Positive   All\n",
      "True                               \n",
      "Negative        398       167   565\n",
      "Positive        136       759   895\n",
      "All             534       926  1460\n",
      "********************************CLASSIFICATION MODEL**************************************************\n",
      "LogisticRegression(C=1.0, class_weight=None, dual=False, fit_intercept=True,\n",
      "          intercept_scaling=1, max_iter=100, multi_class='warn',\n",
      "          n_jobs=None, penalty='l2', random_state=None, solver='warn',\n",
      "          tol=0.0001, verbose=0, warm_start=False)\n",
      "Accuracy score: 0.847\n",
      "Accuracy for cross validation : 82.36\n",
      "Classfication Report\n",
      "________________________\n"
     ]
    },
    {
     "name": "stderr",
     "output_type": "stream",
     "text": [
      "C:\\Users\\Chaitra\\Anaconda3\\envs\\Python\\lib\\site-packages\\sklearn\\linear_model\\logistic.py:433: FutureWarning: Default solver will be changed to 'lbfgs' in 0.22. Specify a solver to silence this warning.\n",
      "  FutureWarning)\n",
      "C:\\Users\\Chaitra\\Anaconda3\\envs\\Python\\lib\\site-packages\\sklearn\\linear_model\\logistic.py:433: FutureWarning: Default solver will be changed to 'lbfgs' in 0.22. Specify a solver to silence this warning.\n",
      "  FutureWarning)\n",
      "C:\\Users\\Chaitra\\Anaconda3\\envs\\Python\\lib\\site-packages\\sklearn\\linear_model\\logistic.py:433: FutureWarning: Default solver will be changed to 'lbfgs' in 0.22. Specify a solver to silence this warning.\n",
      "  FutureWarning)\n",
      "C:\\Users\\Chaitra\\Anaconda3\\envs\\Python\\lib\\site-packages\\sklearn\\linear_model\\logistic.py:433: FutureWarning: Default solver will be changed to 'lbfgs' in 0.22. Specify a solver to silence this warning.\n",
      "  FutureWarning)\n",
      "C:\\Users\\Chaitra\\Anaconda3\\envs\\Python\\lib\\site-packages\\sklearn\\linear_model\\logistic.py:433: FutureWarning: Default solver will be changed to 'lbfgs' in 0.22. Specify a solver to silence this warning.\n",
      "  FutureWarning)\n",
      "C:\\Users\\Chaitra\\Anaconda3\\envs\\Python\\lib\\site-packages\\sklearn\\linear_model\\logistic.py:433: FutureWarning: Default solver will be changed to 'lbfgs' in 0.22. Specify a solver to silence this warning.\n",
      "  FutureWarning)\n"
     ]
    },
    {
     "name": "stdout",
     "output_type": "stream",
     "text": [
      "              precision    recall  f1-score   support\n",
      "\n",
      "    Negative       0.90      0.68      0.77       565\n",
      "    Positive       0.82      0.95      0.88       895\n",
      "\n",
      "   micro avg       0.85      0.85      0.85      1460\n",
      "   macro avg       0.86      0.82      0.83      1460\n",
      "weighted avg       0.85      0.85      0.84      1460\n",
      "\n",
      "Metrics computed by confusion matrix : 0.8465753424657534\n",
      "Misclassification Rate : 0.15342465753424658\n",
      "Sensitivity : 0.9541899441340782\n",
      "Specificity : 0.6761061946902654\n",
      "Confusion Metrics\n",
      "________________________\n",
      "Predicted  Negative  Positive   All\n",
      "True                               \n",
      "Negative        382       183   565\n",
      "Positive         41       854   895\n",
      "All             423      1037  1460\n"
     ]
    }
   ],
   "source": [
    "accuracy_Res_bar, accuracy_Res_bar_cross_val = classfier_between_categories(restaurant_txt, bar_txt)"
   ]
  },
  {
   "cell_type": "markdown",
   "metadata": {},
   "source": [
    "# Category B(Bar) as training and Category A(Restaurant) as test"
   ]
  },
  {
   "cell_type": "code",
   "execution_count": 27,
   "metadata": {},
   "outputs": [
    {
     "name": "stdout",
     "output_type": "stream",
     "text": [
      "********************************CLASSIFICATION MODEL**************************************************\n",
      "KNeighborsClassifier(algorithm='auto', leaf_size=30, metric='minkowski',\n",
      "           metric_params=None, n_jobs=None, n_neighbors=5, p=2,\n",
      "           weights='uniform')\n",
      "Accuracy score: 0.765\n",
      "Accuracy for cross validation : 73.01\n",
      "Classfication Report\n",
      "________________________\n",
      "              precision    recall  f1-score   support\n",
      "\n",
      "    Negative       0.68      0.64      0.66       507\n",
      "    Positive       0.81      0.83      0.82       933\n",
      "\n",
      "   micro avg       0.76      0.76      0.76      1440\n",
      "   macro avg       0.74      0.74      0.74      1440\n",
      "weighted avg       0.76      0.76      0.76      1440\n",
      "\n",
      "Metrics computed by confusion matrix : 0.7645833333333333\n",
      "Misclassification Rate : 0.23541666666666666\n",
      "Sensitivity : 0.8338692390139335\n",
      "Specificity : 0.6370808678500987\n",
      "Confusion Metrics\n",
      "________________________\n",
      "Predicted  Negative  Positive   All\n",
      "True                               \n",
      "Negative        323       184   507\n",
      "Positive        155       778   933\n",
      "All             478       962  1440\n",
      "********************************CLASSIFICATION MODEL**************************************************\n",
      "MultinomialNB(alpha=1.0, class_prior=None, fit_prior=True)\n",
      "Accuracy score: 0.848\n",
      "Accuracy for cross validation : 83.36\n",
      "Classfication Report\n",
      "________________________\n",
      "              precision    recall  f1-score   support\n",
      "\n",
      "    Negative       0.88      0.66      0.75       507\n",
      "    Positive       0.84      0.95      0.89       933\n",
      "\n",
      "   micro avg       0.85      0.85      0.85      1440\n",
      "   macro avg       0.86      0.81      0.82      1440\n",
      "weighted avg       0.85      0.85      0.84      1440\n",
      "\n",
      "Metrics computed by confusion matrix : 0.8479166666666667\n",
      "Misclassification Rate : 0.15208333333333332\n",
      "Sensitivity : 0.9496248660235799\n",
      "Specificity : 0.6607495069033531\n",
      "Confusion Metrics\n",
      "________________________\n",
      "Predicted  Negative  Positive   All\n",
      "True                               \n",
      "Negative        335       172   507\n",
      "Positive         47       886   933\n",
      "All             382      1058  1440\n",
      "********************************CLASSIFICATION MODEL**************************************************\n",
      "DecisionTreeClassifier(class_weight=None, criterion='gini', max_depth=None,\n",
      "            max_features=None, max_leaf_nodes=None,\n",
      "            min_impurity_decrease=0.0, min_impurity_split=None,\n",
      "            min_samples_leaf=1, min_samples_split=2,\n",
      "            min_weight_fraction_leaf=0.0, presort=False, random_state=None,\n",
      "            splitter='best')\n",
      "Accuracy score: 0.737\n",
      "Accuracy for cross validation : 68.7\n",
      "Classfication Report\n",
      "________________________\n",
      "              precision    recall  f1-score   support\n",
      "\n",
      "    Negative       0.62      0.64      0.63       507\n",
      "    Positive       0.80      0.79      0.79       933\n",
      "\n",
      "   micro avg       0.74      0.74      0.74      1440\n",
      "   macro avg       0.71      0.72      0.71      1440\n",
      "weighted avg       0.74      0.74      0.74      1440\n",
      "\n",
      "Metrics computed by confusion matrix : 0.7368055555555556\n",
      "Misclassification Rate : 0.26319444444444445\n",
      "Sensitivity : 0.7867095391211146\n",
      "Specificity : 0.6449704142011834\n",
      "Confusion Metrics\n",
      "________________________\n",
      "Predicted  Negative  Positive   All\n",
      "True                               \n",
      "Negative        327       180   507\n",
      "Positive        199       734   933\n",
      "All             526       914  1440\n",
      "********************************CLASSIFICATION MODEL**************************************************\n",
      "RandomForestClassifier(bootstrap=True, class_weight=None, criterion='gini',\n",
      "            max_depth=None, max_features='auto', max_leaf_nodes=None,\n",
      "            min_impurity_decrease=0.0, min_impurity_split=None,\n",
      "            min_samples_leaf=1, min_samples_split=2,\n",
      "            min_weight_fraction_leaf=0.0, n_estimators=10, n_jobs=None,\n",
      "            oob_score=False, random_state=None, verbose=0,\n",
      "            warm_start=False)\n",
      "Accuracy score: 0.757\n"
     ]
    },
    {
     "name": "stderr",
     "output_type": "stream",
     "text": [
      "C:\\Users\\Chaitra\\Anaconda3\\envs\\Python\\lib\\site-packages\\sklearn\\ensemble\\forest.py:246: FutureWarning: The default value of n_estimators will change from 10 in version 0.20 to 100 in 0.22.\n",
      "  \"10 in version 0.20 to 100 in 0.22.\", FutureWarning)\n"
     ]
    },
    {
     "name": "stdout",
     "output_type": "stream",
     "text": [
      "Accuracy for cross validation : 78.9\n",
      "Classfication Report\n",
      "________________________\n",
      "              precision    recall  f1-score   support\n",
      "\n",
      "    Negative       0.64      0.70      0.67       507\n",
      "    Positive       0.83      0.79      0.81       933\n",
      "\n",
      "   micro avg       0.76      0.76      0.76      1440\n",
      "   macro avg       0.74      0.74      0.74      1440\n",
      "weighted avg       0.76      0.76      0.76      1440\n",
      "\n",
      "Metrics computed by confusion matrix : 0.7569444444444444\n",
      "Misclassification Rate : 0.24305555555555555\n",
      "Sensitivity : 0.789924973204716\n",
      "Specificity : 0.6962524654832347\n",
      "Confusion Metrics\n",
      "________________________\n",
      "Predicted  Negative  Positive   All\n",
      "True                               \n",
      "Negative        353       154   507\n",
      "Positive        196       737   933\n",
      "All             549       891  1440\n",
      "********************************CLASSIFICATION MODEL**************************************************\n",
      "LogisticRegression(C=1.0, class_weight=None, dual=False, fit_intercept=True,\n",
      "          intercept_scaling=1, max_iter=100, multi_class='warn',\n",
      "          n_jobs=None, penalty='l2', random_state=None, solver='warn',\n",
      "          tol=0.0001, verbose=0, warm_start=False)\n",
      "Accuracy score: 0.859\n"
     ]
    },
    {
     "name": "stderr",
     "output_type": "stream",
     "text": [
      "C:\\Users\\Chaitra\\Anaconda3\\envs\\Python\\lib\\site-packages\\sklearn\\linear_model\\logistic.py:433: FutureWarning: Default solver will be changed to 'lbfgs' in 0.22. Specify a solver to silence this warning.\n",
      "  FutureWarning)\n",
      "C:\\Users\\Chaitra\\Anaconda3\\envs\\Python\\lib\\site-packages\\sklearn\\linear_model\\logistic.py:433: FutureWarning: Default solver will be changed to 'lbfgs' in 0.22. Specify a solver to silence this warning.\n",
      "  FutureWarning)\n",
      "C:\\Users\\Chaitra\\Anaconda3\\envs\\Python\\lib\\site-packages\\sklearn\\linear_model\\logistic.py:433: FutureWarning: Default solver will be changed to 'lbfgs' in 0.22. Specify a solver to silence this warning.\n",
      "  FutureWarning)\n",
      "C:\\Users\\Chaitra\\Anaconda3\\envs\\Python\\lib\\site-packages\\sklearn\\linear_model\\logistic.py:433: FutureWarning: Default solver will be changed to 'lbfgs' in 0.22. Specify a solver to silence this warning.\n",
      "  FutureWarning)\n",
      "C:\\Users\\Chaitra\\Anaconda3\\envs\\Python\\lib\\site-packages\\sklearn\\linear_model\\logistic.py:433: FutureWarning: Default solver will be changed to 'lbfgs' in 0.22. Specify a solver to silence this warning.\n",
      "  FutureWarning)\n",
      "C:\\Users\\Chaitra\\Anaconda3\\envs\\Python\\lib\\site-packages\\sklearn\\linear_model\\logistic.py:433: FutureWarning: Default solver will be changed to 'lbfgs' in 0.22. Specify a solver to silence this warning.\n",
      "  FutureWarning)\n"
     ]
    },
    {
     "name": "stdout",
     "output_type": "stream",
     "text": [
      "Accuracy for cross validation : 83.77\n",
      "Classfication Report\n",
      "________________________\n",
      "              precision    recall  f1-score   support\n",
      "\n",
      "    Negative       0.86      0.72      0.78       507\n",
      "    Positive       0.86      0.93      0.90       933\n",
      "\n",
      "   micro avg       0.86      0.86      0.86      1440\n",
      "   macro avg       0.86      0.83      0.84      1440\n",
      "weighted avg       0.86      0.86      0.86      1440\n",
      "\n",
      "Metrics computed by confusion matrix : 0.8590277777777777\n",
      "Misclassification Rate : 0.14097222222222222\n",
      "Sensitivity : 0.9346195069667739\n",
      "Specificity : 0.7199211045364892\n",
      "Confusion Metrics\n",
      "________________________\n",
      "Predicted  Negative  Positive   All\n",
      "True                               \n",
      "Negative        365       142   507\n",
      "Positive         61       872   933\n",
      "All             426      1014  1440\n"
     ]
    }
   ],
   "source": [
    "accuracy_Bar_Res, accuracy_bar_Res_cross_val = classfier_between_categories(bar_txt, restaurant_txt)"
   ]
  },
  {
   "cell_type": "markdown",
   "metadata": {},
   "source": [
    "### Plot the graphs for these categories"
   ]
  },
  {
   "cell_type": "code",
   "execution_count": 28,
   "metadata": {},
   "outputs": [
    {
     "data": {
      "image/png": "[encoded data removed]",
      "text/plain": [
       "<Figure size 432x288 with 1 Axes>"
      ]
     },
     "metadata": {
      "needs_background": "light"
     },
     "output_type": "display_data"
    }
   ],
   "source": [
    "f, ax = plt.subplots(1, 1)\n",
    "ax.plot_date(x, accuracy_Res_bar, color=\"blue\", label=\"Restaurant(TRAIN) => BAR(Test)\", linestyle=\"-\")\n",
    "ax.plot_date(x, accuracy_Bar_Res, color=\"red\", label=\"BAR(TRAIN) => Restaurant(TEST)\", linestyle=\"-\")\n",
    "ax.legend()\n",
    "\n",
    "plt.title(\"Accuracy between categories\")\n",
    "plt.gcf().autofmt_xdate()\n",
    "plt.show()"
   ]
  },
  {
   "cell_type": "code",
   "execution_count": 30,
   "metadata": {},
   "outputs": [
    {
     "data": {
      "image/png": "[encoded data removed]",
      "text/plain": [
       "<Figure size 432x288 with 1 Axes>"
      ]
     },
     "metadata": {
      "needs_background": "light"
     },
     "output_type": "display_data"
    }
   ],
   "source": [
    "f, ax = plt.subplots(1, 1)\n",
    "ax.plot_date(x, accuracy_Res_bar_cross_val, color=\"blue\", label=\"Restaurant(TRAIN) => BAR(TEST)\", linestyle=\"-\")\n",
    "ax.plot_date(x, accuracy_bar_Res_cross_val, color=\"red\", label=\"BAR(TRAIN) => Restaurant(TEST)\", linestyle=\"-\")\n",
    "ax.legend()\n",
    "\n",
    "plt.title(\"Accuracy between categories with cross validation\")\n",
    "plt.gcf().autofmt_xdate()\n",
    "plt.show()"
   ]
  },
  {
   "cell_type": "markdown",
   "metadata": {},
   "source": [
    "### ALL combined graph"
   ]
  },
  {
   "cell_type": "code",
   "execution_count": 29,
   "metadata": {},
   "outputs": [
    {
     "data": {
      "image/png": "[encoded data removed]",
      "text/plain": [
       "<Figure size 432x288 with 1 Axes>"
      ]
     },
     "metadata": {
      "needs_background": "light"
     },
     "output_type": "display_data"
    }
   ],
   "source": [
    "f, ax = plt.subplots(1, 1)\n",
    "ax.plot_date(x, accuracy_Res_bar, color=\"blue\", label=\"Restaurant(TRAIN) => BAR(Test)\", linestyle=\"-\")\n",
    "ax.plot_date(x, accuracy_Bar_Res, color=\"red\", label=\"BAR(TRAIN) => Restaurant(TEST)\", linestyle=\"-\")\n",
    "ax.plot_date(x, accuracies_bar, color=\"yellow\", label=\"Bar_Accuracy\", linestyle=\"-\")\n",
    "ax.plot_date(x, accuracies_restaurant, color=\"orange\", label=\"Restaurant_Accuracy\", linestyle=\"-\")\n",
    "ax.legend()\n",
    "\n",
    "plt.title(\"Accuracies\")\n",
    "plt.gcf().autofmt_xdate()\n",
    "plt.show()"
   ]
  },
  {
   "cell_type": "markdown",
   "metadata": {},
   "source": [
    "***Observation*** : If you observe the comparision between all the categories. BAR alone, Restaurant alone, Bar(Train) & Restaurant(Test) and viceversa.\n",
    "    We could see that the Bar Dataset has performed best and second best is the combination of bar as TRain and Restaurant as test .\n",
    "    Hence we can easily state it would be easier to make recommendation for a restaurant based on the bar review comments."
   ]
  },
  {
   "cell_type": "markdown",
   "metadata": {},
   "source": [
    "***Observation:*** By using *RESTAURANT* review as training set , and testing the accuracy of the *BAR* reviews by using as test set and viceversa. We could see that both of these categories are interrealted, and it is clearly seen in the accuracy scores that is computed . So we will be able to made predictions for a good restaurant by training the model on the review of a Bar and the other way is also true. Even in this case we could clearly see that the MultinomialNB naive bayes and the LogisticRegression.\n",
    "Based on the accuracy and the misclassification values it is clear that by training the model on teh bar review_comment and predicting the restaurant performed much better and hence it is a good option to recommend a restaurant based on the review from the bar .\n",
    "\n",
    "***Logistic regression:*** The model performs well for our data because we have binary classification (Positive/Negative) for labels. This works well for correlated with each other."
   ]
  },
  {
   "cell_type": "markdown",
   "metadata": {},
   "source": [
    "***Hypothesis Proved:*** The Hypothesis is proven and we can observe that the accuracy for the model comparision is good and hence we can tell both of these categories are interrelated."
   ]
  },
  {
   "cell_type": "markdown",
   "metadata": {},
   "source": [
    "***Conclusion:***\n",
    "Overall by training the data from two different categories ***Bar*** and ***Restaurant*** , the classfiers chosen were Knn, NaiveBayes, Decision trees , Random forest and Logistic regression.\n",
    "The results clearly indicate that two of the algorithms MultinomialNB naive bayes and the LogisticRegression performed best than the others, also random forest has performed considerable well than these two models. With the data chosen it would be easier to make recommendation for a ***RESTAURANT*** by using the review comment from a ***BAR*** and similarly using the review comment from the ***BAR*** can be used to suggest a ***RESTAURANT***.\n",
    "This data is related and hence we could see higher accuracy when one of them was trained on a model and the testing was done on another.\n",
    "These models also have lesser misclassfictaion rate. The metrics like confusion metrics, precision , recall gives better understanding \n",
    "on how each of teh classfiers have performed.\n",
    "The graphs plotted gives a clear picture of the accuracies for these chosen categories.\n"
   ]
  },
  {
   "cell_type": "code",
   "execution_count": null,
   "metadata": {},
   "outputs": [],
   "source": []
  }
 ],
 "metadata": {
  "kernelspec": {
   "display_name": "Python 3",
   "language": "python",
   "name": "python3"
  },
  "language_info": {
   "codemirror_mode": {
    "name": "ipython",
    "version": 3
   },
   "file_extension": ".py",
   "mimetype": "text/x-python",
   "name": "python",
   "nbconvert_exporter": "python",
   "pygments_lexer": "ipython3",
   "version": "3.6.8"
  }
 },
 "nbformat": 4,
 "nbformat_minor": 2
}
